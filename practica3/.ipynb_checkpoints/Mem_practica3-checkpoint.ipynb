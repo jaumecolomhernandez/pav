{
 "cells": [
  {
   "cell_type": "code",
   "execution_count": 2,
   "metadata": {},
   "outputs": [],
   "source": [
    "import matplotlib.pyplot as plt\n",
    "import sys\n",
    "import numpy as np"
   ]
  },
  {
   "cell_type": "code",
   "execution_count": null,
   "metadata": {},
   "outputs": [],
   "source": [
    "base_path = '/home/jc/pav/practica3/'"
   ]
  },
  {
   "cell_type": "markdown",
   "metadata": {},
   "source": [
    "## Model bàsic (autocorrelació)"
   ]
  },
  {
   "cell_type": "code",
   "execution_count": null,
   "metadata": {},
   "outputs": [],
   "source": [
    "data = np.loadtxt(base_path+'plot')\n",
    "plt.plot(data)"
   ]
  },
  {
   "cell_type": "code",
   "execution_count": null,
   "metadata": {},
   "outputs": [],
   "source": []
  },
  {
   "cell_type": "code",
   "execution_count": null,
   "metadata": {},
   "outputs": [],
   "source": []
  },
  {
   "cell_type": "code",
   "execution_count": null,
   "metadata": {},
   "outputs": [],
   "source": []
  },
  {
   "cell_type": "code",
   "execution_count": null,
   "metadata": {},
   "outputs": [],
   "source": []
  },
  {
   "cell_type": "markdown",
   "metadata": {},
   "source": [
    "## Model amb center clipping"
   ]
  },
  {
   "cell_type": "markdown",
   "metadata": {},
   "source": [
    "## Model amb decimat de freqüència"
   ]
  },
  {
   "cell_type": "markdown",
   "metadata": {},
   "source": [
    "## Model amb filtre de mediana"
   ]
  },
  {
   "cell_type": "markdown",
   "metadata": {},
   "source": [
    "## Model amb detector cepstral"
   ]
  },
  {
   "cell_type": "markdown",
   "metadata": {},
   "source": [
    "## Model final"
   ]
  },
  {
   "cell_type": "markdown",
   "metadata": {},
   "source": [
    "## Model final"
   ]
  },
  {
   "cell_type": "markdown",
   "metadata": {},
   "source": [
    "## Model final"
   ]
  },
  {
   "cell_type": "markdown",
   "metadata": {},
   "source": [
    "## Autocorrelació"
   ]
  },
  {
   "cell_type": "code",
   "execution_count": 103,
   "metadata": {},
   "outputs": [
    {
     "data": {
      "text/plain": [
       "[<matplotlib.lines.Line2D at 0x7f853afde320>]"
      ]
     },
     "execution_count": 103,
     "metadata": {},
     "output_type": "execute_result"
    },
    {
     "data": {
      "image/png": "[encoded data removed]",
      "text/plain": [
       "<Figure size 432x288 with 1 Axes>"
      ]
     },
     "metadata": {
      "needs_background": "light"
     },
     "output_type": "display_data"
    }
   ],
   "source": [
    "plt.plot(data)"
   ]
  },
  {
   "cell_type": "markdown",
   "metadata": {},
   "source": [
    "## fmax/fnorm"
   ]
  },
  {
   "cell_type": "code",
   "execution_count": 133,
   "metadata": {},
   "outputs": [
    {
     "data": {
      "text/plain": [
       "(-0.5, 0.6)"
      ]
     },
     "execution_count": 133,
     "metadata": {},
     "output_type": "execute_result"
    },
    {
     "data": {
      "image/png": "[encoded data removed]",
      "text/plain": [
       "<Figure size 432x288 with 1 Axes>"
      ]
     },
     "metadata": {
      "needs_background": "light"
     },
     "output_type": "display_data"
    }
   ],
   "source": [
    "data = np.loadtxt(base_path+'plot')\n",
    "plt.plot(data)\n",
    "plt.ylim(-0.5, 0.6) "
   ]
  },
  {
   "cell_type": "code",
   "execution_count": 115,
   "metadata": {},
   "outputs": [
    {
     "data": {
      "text/plain": [
       "[0.007949,\n",
       " 0.003961,\n",
       " 0.002317,\n",
       " 0.002307,\n",
       " 0.002254,\n",
       " 0.001889,\n",
       " 0.001824,\n",
       " 0.001696,\n",
       " 0.001668,\n",
       " 0.001594,\n",
       " 0.001489,\n",
       " 0.001364,\n",
       " 0.001355,\n",
       " 0.00122,\n",
       " 0.001163,\n",
       " 0.001131,\n",
       " 0.001115,\n",
       " 0.001065,\n",
       " 0.000974,\n",
       " 0.00095,\n",
       " 0.000941,\n",
       " 0.000908,\n",
       " 0.00089,\n",
       " 0.000871,\n",
       " 0.000822,\n",
       " 0.000814,\n",
       " 0.000807,\n",
       " 0.00079,\n",
       " 0.000768,\n",
       " 0.00075,\n",
       " 0.000729,\n",
       " 0.000704,\n",
       " 0.000697,\n",
       " 0.000652,\n",
       " 0.000616,\n",
       " 0.000595,\n",
       " 0.000528,\n",
       " 0.000525,\n",
       " 0.000495,\n",
       " 0.000493,\n",
       " 0.000483,\n",
       " 0.00048,\n",
       " 0.000477,\n",
       " 0.000462,\n",
       " 0.00046,\n",
       " 0.000412,\n",
       " 0.000409,\n",
       " 0.000407,\n",
       " 0.000399,\n",
       " 0.000393,\n",
       " 0.000364,\n",
       " 0.000364,\n",
       " 0.000361,\n",
       " 0.000356,\n",
       " 0.000341,\n",
       " 0.000335,\n",
       " 0.000328,\n",
       " 0.000317,\n",
       " 0.00031,\n",
       " 0.000307,\n",
       " 0.000304,\n",
       " 0.000291,\n",
       " 0.000283,\n",
       " 0.000283,\n",
       " 0.000279,\n",
       " 0.000278,\n",
       " 0.000275,\n",
       " 0.000274,\n",
       " 0.000272,\n",
       " 0.00027,\n",
       " 0.000267,\n",
       " 0.000265,\n",
       " 0.000255,\n",
       " 0.000253,\n",
       " 0.000253,\n",
       " 0.000249,\n",
       " 0.000244,\n",
       " 0.000243,\n",
       " 0.000233,\n",
       " 0.000229,\n",
       " 0.000218,\n",
       " 0.000213,\n",
       " 0.000197,\n",
       " 0.000192,\n",
       " 0.000191,\n",
       " 0.000187,\n",
       " 0.000178,\n",
       " 0.00017,\n",
       " 0.000159,\n",
       " 0.000158,\n",
       " 0.00015,\n",
       " 0.000144,\n",
       " 0.000143,\n",
       " 0.000142,\n",
       " 0.000138,\n",
       " 0.000132,\n",
       " 0.000131,\n",
       " 0.000117,\n",
       " 0.000116,\n",
       " 0.000116,\n",
       " 0.000114,\n",
       " 0.000114,\n",
       " 0.00011,\n",
       " 0.000106,\n",
       " 0.000106,\n",
       " 0.000104,\n",
       " 9.9e-05,\n",
       " 9.6e-05,\n",
       " 9.1e-05,\n",
       " 9.1e-05,\n",
       " 8.6e-05,\n",
       " 8.6e-05,\n",
       " 8.1e-05,\n",
       " 7.9e-05,\n",
       " 7.9e-05,\n",
       " 7.8e-05,\n",
       " 6.6e-05,\n",
       " 6.5e-05,\n",
       " 6.3e-05,\n",
       " 6.3e-05,\n",
       " 6e-05,\n",
       " 6e-05,\n",
       " 5.6e-05,\n",
       " 5.3e-05,\n",
       " 5.2e-05,\n",
       " 4.2e-05,\n",
       " 4.2e-05,\n",
       " 4.1e-05,\n",
       " 3.8e-05,\n",
       " 3.6e-05,\n",
       " 3.6e-05,\n",
       " 3.6e-05,\n",
       " 3.6e-05,\n",
       " 3.5e-05,\n",
       " 3.3e-05,\n",
       " 2.6e-05,\n",
       " 2.5e-05,\n",
       " 2.4e-05,\n",
       " 2.4e-05,\n",
       " 2.4e-05,\n",
       " 2.2e-05,\n",
       " 2.2e-05,\n",
       " 2.1e-05,\n",
       " 2.1e-05,\n",
       " 1.9e-05,\n",
       " 1.7e-05,\n",
       " 1.7e-05,\n",
       " 1.4e-05,\n",
       " 1.4e-05,\n",
       " 1.4e-05,\n",
       " 1.3e-05,\n",
       " 8e-06,\n",
       " 5e-06,\n",
       " 4e-06,\n",
       " 3e-06,\n",
       " 2e-06,\n",
       " -1e-06,\n",
       " -4e-06,\n",
       " -7e-06,\n",
       " -8e-06,\n",
       " -9e-06,\n",
       " -1e-05,\n",
       " -1e-05,\n",
       " -1.1e-05,\n",
       " -1.5e-05,\n",
       " -1.5e-05,\n",
       " -1.5e-05,\n",
       " -2.7e-05,\n",
       " -3.1e-05,\n",
       " -3.1e-05,\n",
       " -3.2e-05,\n",
       " -3.5e-05,\n",
       " -4.5e-05,\n",
       " -4.5e-05,\n",
       " -4.7e-05,\n",
       " -4.8e-05,\n",
       " -5.1e-05,\n",
       " -5.9e-05,\n",
       " -6e-05,\n",
       " -6.4e-05,\n",
       " -6.4e-05,\n",
       " -6.4e-05,\n",
       " -6.6e-05,\n",
       " -6.8e-05,\n",
       " -6.9e-05,\n",
       " -7.1e-05,\n",
       " -7.4e-05,\n",
       " -7.5e-05,\n",
       " -7.5e-05,\n",
       " -7.5e-05,\n",
       " -7.8e-05,\n",
       " -8e-05,\n",
       " -8.1e-05,\n",
       " -8.2e-05,\n",
       " -8.7e-05,\n",
       " -9.3e-05,\n",
       " -9.6e-05,\n",
       " -9.8e-05,\n",
       " -0.000103,\n",
       " -0.000104,\n",
       " -0.000114,\n",
       " -0.000115,\n",
       " -0.000119,\n",
       " -0.000128,\n",
       " -0.000131,\n",
       " -0.000133,\n",
       " -0.000135,\n",
       " -0.000135,\n",
       " -0.000135,\n",
       " -0.000139,\n",
       " -0.00014,\n",
       " -0.000157,\n",
       " -0.000174,\n",
       " -0.000185,\n",
       " -0.000189,\n",
       " -0.00019,\n",
       " -0.000193,\n",
       " -0.000193,\n",
       " -0.000204,\n",
       " -0.000205,\n",
       " -0.000212,\n",
       " -0.000213,\n",
       " -0.000219,\n",
       " -0.000221,\n",
       " -0.000222,\n",
       " -0.000229,\n",
       " -0.000242,\n",
       " -0.00025,\n",
       " -0.000258,\n",
       " -0.000263,\n",
       " -0.000265,\n",
       " -0.000275,\n",
       " -0.000276,\n",
       " -0.000277,\n",
       " -0.000279,\n",
       " -0.000288,\n",
       " -0.000288,\n",
       " -0.000288,\n",
       " -0.00031,\n",
       " -0.000314,\n",
       " -0.000326,\n",
       " -0.000348,\n",
       " -0.000355,\n",
       " -0.000366,\n",
       " -0.00037,\n",
       " -0.000371,\n",
       " -0.000372,\n",
       " -0.000373,\n",
       " -0.000379,\n",
       " -0.000386,\n",
       " -0.000395,\n",
       " -0.000398,\n",
       " -0.000406,\n",
       " -0.000408,\n",
       " -0.000417,\n",
       " -0.000431,\n",
       " -0.000441,\n",
       " -0.000441,\n",
       " -0.000445,\n",
       " -0.000494,\n",
       " -0.000494,\n",
       " -0.00052,\n",
       " -0.000526,\n",
       " -0.000533,\n",
       " -0.000538,\n",
       " -0.000614,\n",
       " -0.000694,\n",
       " -0.000696,\n",
       " -0.00071,\n",
       " -0.000751,\n",
       " -0.000758,\n",
       " -0.000768,\n",
       " -0.000774,\n",
       " -0.000786,\n",
       " -0.000803,\n",
       " -0.000811,\n",
       " -0.000857,\n",
       " -0.000869,\n",
       " -0.000876,\n",
       " -0.000935,\n",
       " -0.000945,\n",
       " -0.000948,\n",
       " -0.000954,\n",
       " -0.001009,\n",
       " -0.001208,\n",
       " -0.001427,\n",
       " -0.001464,\n",
       " -0.001505,\n",
       " -0.001524,\n",
       " -0.001547,\n",
       " -0.001564,\n",
       " -0.001734,\n",
       " -0.001972,\n",
       " -0.002012,\n",
       " -0.002021,\n",
       " -0.002063,\n",
       " -0.002121,\n",
       " -0.002326,\n",
       " -0.002946,\n",
       " -0.00461]"
      ]
     },
     "execution_count": 115,
     "metadata": {},
     "output_type": "execute_result"
    }
   ],
   "source": [
    "sorted(data,reverse=True)\n"
   ]
  },
  {
   "cell_type": "code",
   "execution_count": 118,
   "metadata": {},
   "outputs": [
    {
     "data": {
      "text/plain": [
       "array([ 7.949e-03,  3.961e-03, -2.326e-03, -4.610e-03, -2.946e-03,\n",
       "        2.330e-04,  2.317e-03,  2.254e-03,  1.163e-03,  3.610e-04,\n",
       "       -3.550e-04, -1.208e-03, -1.524e-03, -8.690e-04,  2.430e-04,\n",
       "        1.065e-03,  1.355e-03,  9.740e-04, -5.330e-04, -1.972e-03,\n",
       "       -1.505e-03,  2.530e-04,  1.489e-03,  8.710e-04, -1.009e-03,\n",
       "       -2.012e-03, -7.510e-04,  1.364e-03,  1.668e-03,  1.420e-04,\n",
       "       -1.547e-03, -2.063e-03, -9.450e-04,  9.410e-04,  1.889e-03,\n",
       "        1.115e-03, -5.260e-04, -1.734e-03, -1.564e-03, -2.210e-04,\n",
       "        8.220e-04,  7.040e-04, -2.700e-05, -3.710e-04,  1.100e-04,\n",
       "        3.560e-04, -3.720e-04, -9.350e-04, -3.950e-04,  9.080e-04,\n",
       "        1.696e-03,  6.970e-04, -1.464e-03, -2.121e-03, -2.880e-04,\n",
       "        1.824e-03,  2.307e-03,  7.900e-04, -1.427e-03, -2.021e-03,\n",
       "       -6.940e-04,  9.500e-04,  1.594e-03,  1.131e-03,  3.500e-05,\n",
       "       -8.110e-04, -7.100e-04,  8.000e-06,  3.930e-04,  2.830e-04,\n",
       "        2.670e-04,  4.620e-04,  4.770e-04,  9.600e-05, -4.940e-04,\n",
       "       -9.540e-04, -3.980e-04,  8.900e-04,  1.220e-03,  1.320e-04,\n",
       "       -9.480e-04, -8.570e-04, -6.000e-05,  7.680e-04,  8.070e-04,\n",
       "       -9.800e-05, -8.030e-04, -7.860e-04, -3.700e-04,  2.650e-04,\n",
       "        7.290e-04,  4.830e-04, -1.930e-04, -7.580e-04, -7.680e-04,\n",
       "       -1.330e-04,  4.090e-04,  2.530e-04, -8.000e-06,  4.100e-05,\n",
       "        1.500e-04,  9.900e-05, -3.480e-04, -6.140e-04, -2.880e-04,\n",
       "        2.830e-04,  6.160e-04,  2.740e-04, -4.310e-04, -6.960e-04,\n",
       "       -2.580e-04,  3.070e-04,  4.800e-04,  2.490e-04, -2.220e-04,\n",
       "       -4.410e-04, -3.500e-05,  5.280e-04,  4.930e-04, -2.750e-04,\n",
       "       -7.740e-04, -2.630e-04,  5.950e-04,  8.140e-04,  2.180e-04,\n",
       "       -3.790e-04, -4.060e-04, -1.350e-04, -4.000e-06,  6.000e-05,\n",
       "        3.410e-04,  4.950e-04,  1.970e-04, -1.850e-04, -4.410e-04,\n",
       "       -4.450e-04, -7.500e-05,  4.600e-04,  6.520e-04,  3.990e-04,\n",
       "        1.300e-05, -5.200e-04, -8.760e-04, -3.860e-04,  5.250e-04,\n",
       "        7.500e-04,  2.700e-04, -1.890e-04, -4.080e-04, -5.380e-04,\n",
       "       -4.170e-04,  5.600e-05,  4.070e-04,  3.100e-04,  2.500e-05,\n",
       "       -1.390e-04, -1.280e-04,  2.100e-05,  5.000e-06, -1.930e-04,\n",
       "       -4.700e-05,  2.910e-04,  3.170e-04,  1.160e-04, -8.200e-05,\n",
       "       -1.740e-04,  2.400e-05,  2.290e-04,  1.900e-05, -2.050e-04,\n",
       "       -1.500e-05,  3.040e-04,  3.640e-04,  1.060e-04, -2.790e-04,\n",
       "       -4.940e-04, -2.880e-04,  1.910e-04,  4.120e-04,  2.130e-04,\n",
       "       -9.300e-05, -2.770e-04, -3.730e-04, -3.140e-04,  7.900e-05,\n",
       "        3.640e-04,  1.700e-04, -6.900e-05, -1.400e-04, -2.420e-04,\n",
       "       -2.040e-04,  6.000e-05,  1.780e-04,  9.100e-05,  1.310e-04,\n",
       "        9.100e-05, -2.120e-04, -2.760e-04,  2.200e-05,  2.750e-04,\n",
       "        2.720e-04,  3.600e-05, -2.500e-04, -3.100e-04, -4.500e-05,\n",
       "        2.440e-04,  2.550e-04,  1.170e-04,  1.700e-05, -1.350e-04,\n",
       "       -3.260e-04, -2.190e-04,  1.440e-04,  3.280e-04,  2.790e-04,\n",
       "        1.060e-04, -1.350e-04, -2.650e-04, -2.130e-04, -9.600e-05,\n",
       "        6.500e-05,  2.780e-04,  3.350e-04,  1.040e-04, -2.290e-04,\n",
       "       -3.660e-04, -1.900e-04,  7.800e-05,  1.920e-04,  1.590e-04,\n",
       "        6.600e-05, -1.100e-05, -5.100e-05, -1.040e-04, -1.570e-04,\n",
       "       -7.800e-05,  1.140e-04,  1.870e-04,  8.600e-05, -1.000e-06,\n",
       "       -1.500e-05, -3.100e-05, -6.400e-05, -8.000e-05, -6.800e-05,\n",
       "       -7.000e-06,  5.300e-05,  7.900e-05,  8.100e-05,  3.300e-05,\n",
       "       -4.500e-05, -1.140e-04, -1.310e-04, -8.100e-05,  3.600e-05,\n",
       "        1.580e-04,  1.380e-04,  1.400e-05, -7.400e-05, -1.150e-04,\n",
       "       -1.030e-04, -9.000e-06,  1.160e-04,  1.430e-04,  4.200e-05,\n",
       "       -5.900e-05, -7.100e-05, -3.200e-05,  1.400e-05,  3.600e-05,\n",
       "        2.600e-05,  2.100e-05,  2.200e-05, -3.100e-05, -6.400e-05,\n",
       "        3.000e-06,  6.300e-05,  5.200e-05,  1.400e-05, -6.400e-05,\n",
       "       -1.190e-04, -1.500e-05,  1.140e-04,  8.600e-05,  2.000e-06,\n",
       "       -4.800e-05, -8.700e-05, -7.500e-05, -1.000e-05,  2.400e-05,\n",
       "        2.400e-05,  3.800e-05,  4.200e-05, -1.000e-05, -7.500e-05,\n",
       "       -6.600e-05,  1.700e-05,  6.300e-05,  3.600e-05,  4.000e-06])"
      ]
     },
     "execution_count": 118,
     "metadata": {},
     "output_type": "execute_result"
    }
   ],
   "source": [
    "data"
   ]
  },
  {
   "cell_type": "code",
   "execution_count": null,
   "metadata": {},
   "outputs": [],
   "source": []
  }
 ],
 "metadata": {
  "kernelspec": {
   "display_name": "Python 3",
   "language": "python",
   "name": "python3"
  },
  "language_info": {
   "codemirror_mode": {
    "name": "ipython",
    "version": 3
   },
   "file_extension": ".py",
   "mimetype": "text/x-python",
   "name": "python",
   "nbconvert_exporter": "python",
   "pygments_lexer": "ipython3",
   "version": "3.7.1"
  }
 },
 "nbformat": 4,
 "nbformat_minor": 2
}
